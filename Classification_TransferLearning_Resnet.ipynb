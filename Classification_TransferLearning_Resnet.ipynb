{
  "nbformat": 4,
  "nbformat_minor": 0,
  "metadata": {
    "colab": {
      "provenance": [],
      "collapsed_sections": []
    },
    "kernelspec": {
      "name": "python3",
      "display_name": "Python 3"
    },
    "accelerator": "GPU",
    "widgets": {
      "application/vnd.jupyter.widget-state+json": {
        "a320781ff83647b6a4669b8e4a96332e": {
          "model_module": "@jupyter-widgets/controls",
          "model_name": "HBoxModel",
          "model_module_version": "1.5.0",
          "state": {
            "_dom_classes": [],
            "_model_module": "@jupyter-widgets/controls",
            "_model_module_version": "1.5.0",
            "_model_name": "HBoxModel",
            "_view_count": null,
            "_view_module": "@jupyter-widgets/controls",
            "_view_module_version": "1.5.0",
            "_view_name": "HBoxView",
            "box_style": "",
            "children": [
              "IPY_MODEL_59ff11ee5aef433fb71fcf301ce54424",
              "IPY_MODEL_692b0881c6a24421a05a4cb3d4866257",
              "IPY_MODEL_bd7fe9df591a42eab7cad4c773e6737c"
            ],
            "layout": "IPY_MODEL_9123ff44d8754b55b73fa9cc08fd5796"
          }
        },
        "59ff11ee5aef433fb71fcf301ce54424": {
          "model_module": "@jupyter-widgets/controls",
          "model_name": "HTMLModel",
          "model_module_version": "1.5.0",
          "state": {
            "_dom_classes": [],
            "_model_module": "@jupyter-widgets/controls",
            "_model_module_version": "1.5.0",
            "_model_name": "HTMLModel",
            "_view_count": null,
            "_view_module": "@jupyter-widgets/controls",
            "_view_module_version": "1.5.0",
            "_view_name": "HTMLView",
            "description": "",
            "description_tooltip": null,
            "layout": "IPY_MODEL_7ecb8571a5fa4bcf8e8a00044f9d9982",
            "placeholder": "​",
            "style": "IPY_MODEL_2a420853a8ad4b2f8a71010cc04ee8e7",
            "value": "100%"
          }
        },
        "692b0881c6a24421a05a4cb3d4866257": {
          "model_module": "@jupyter-widgets/controls",
          "model_name": "FloatProgressModel",
          "model_module_version": "1.5.0",
          "state": {
            "_dom_classes": [],
            "_model_module": "@jupyter-widgets/controls",
            "_model_module_version": "1.5.0",
            "_model_name": "FloatProgressModel",
            "_view_count": null,
            "_view_module": "@jupyter-widgets/controls",
            "_view_module_version": "1.5.0",
            "_view_name": "ProgressView",
            "bar_style": "success",
            "description": "",
            "description_tooltip": null,
            "layout": "IPY_MODEL_df9cfa9167b444e497787c69a6347040",
            "max": 178793939,
            "min": 0,
            "orientation": "horizontal",
            "style": "IPY_MODEL_e7fd95912d1a4fe0ae9b91a5911a3f34",
            "value": 178793939
          }
        },
        "bd7fe9df591a42eab7cad4c773e6737c": {
          "model_module": "@jupyter-widgets/controls",
          "model_name": "HTMLModel",
          "model_module_version": "1.5.0",
          "state": {
            "_dom_classes": [],
            "_model_module": "@jupyter-widgets/controls",
            "_model_module_version": "1.5.0",
            "_model_name": "HTMLModel",
            "_view_count": null,
            "_view_module": "@jupyter-widgets/controls",
            "_view_module_version": "1.5.0",
            "_view_name": "HTMLView",
            "description": "",
            "description_tooltip": null,
            "layout": "IPY_MODEL_4699613fa01b4e71915a9face7879d90",
            "placeholder": "​",
            "style": "IPY_MODEL_dd355c8913694de2a4a49dfed8864551",
            "value": " 171M/171M [00:01&lt;00:00, 224MB/s]"
          }
        },
        "9123ff44d8754b55b73fa9cc08fd5796": {
          "model_module": "@jupyter-widgets/base",
          "model_name": "LayoutModel",
          "model_module_version": "1.2.0",
          "state": {
            "_model_module": "@jupyter-widgets/base",
            "_model_module_version": "1.2.0",
            "_model_name": "LayoutModel",
            "_view_count": null,
            "_view_module": "@jupyter-widgets/base",
            "_view_module_version": "1.2.0",
            "_view_name": "LayoutView",
            "align_content": null,
            "align_items": null,
            "align_self": null,
            "border": null,
            "bottom": null,
            "display": null,
            "flex": null,
            "flex_flow": null,
            "grid_area": null,
            "grid_auto_columns": null,
            "grid_auto_flow": null,
            "grid_auto_rows": null,
            "grid_column": null,
            "grid_gap": null,
            "grid_row": null,
            "grid_template_areas": null,
            "grid_template_columns": null,
            "grid_template_rows": null,
            "height": null,
            "justify_content": null,
            "justify_items": null,
            "left": null,
            "margin": null,
            "max_height": null,
            "max_width": null,
            "min_height": null,
            "min_width": null,
            "object_fit": null,
            "object_position": null,
            "order": null,
            "overflow": null,
            "overflow_x": null,
            "overflow_y": null,
            "padding": null,
            "right": null,
            "top": null,
            "visibility": null,
            "width": null
          }
        },
        "7ecb8571a5fa4bcf8e8a00044f9d9982": {
          "model_module": "@jupyter-widgets/base",
          "model_name": "LayoutModel",
          "model_module_version": "1.2.0",
          "state": {
            "_model_module": "@jupyter-widgets/base",
            "_model_module_version": "1.2.0",
            "_model_name": "LayoutModel",
            "_view_count": null,
            "_view_module": "@jupyter-widgets/base",
            "_view_module_version": "1.2.0",
            "_view_name": "LayoutView",
            "align_content": null,
            "align_items": null,
            "align_self": null,
            "border": null,
            "bottom": null,
            "display": null,
            "flex": null,
            "flex_flow": null,
            "grid_area": null,
            "grid_auto_columns": null,
            "grid_auto_flow": null,
            "grid_auto_rows": null,
            "grid_column": null,
            "grid_gap": null,
            "grid_row": null,
            "grid_template_areas": null,
            "grid_template_columns": null,
            "grid_template_rows": null,
            "height": null,
            "justify_content": null,
            "justify_items": null,
            "left": null,
            "margin": null,
            "max_height": null,
            "max_width": null,
            "min_height": null,
            "min_width": null,
            "object_fit": null,
            "object_position": null,
            "order": null,
            "overflow": null,
            "overflow_x": null,
            "overflow_y": null,
            "padding": null,
            "right": null,
            "top": null,
            "visibility": null,
            "width": null
          }
        },
        "2a420853a8ad4b2f8a71010cc04ee8e7": {
          "model_module": "@jupyter-widgets/controls",
          "model_name": "DescriptionStyleModel",
          "model_module_version": "1.5.0",
          "state": {
            "_model_module": "@jupyter-widgets/controls",
            "_model_module_version": "1.5.0",
            "_model_name": "DescriptionStyleModel",
            "_view_count": null,
            "_view_module": "@jupyter-widgets/base",
            "_view_module_version": "1.2.0",
            "_view_name": "StyleView",
            "description_width": ""
          }
        },
        "df9cfa9167b444e497787c69a6347040": {
          "model_module": "@jupyter-widgets/base",
          "model_name": "LayoutModel",
          "model_module_version": "1.2.0",
          "state": {
            "_model_module": "@jupyter-widgets/base",
            "_model_module_version": "1.2.0",
            "_model_name": "LayoutModel",
            "_view_count": null,
            "_view_module": "@jupyter-widgets/base",
            "_view_module_version": "1.2.0",
            "_view_name": "LayoutView",
            "align_content": null,
            "align_items": null,
            "align_self": null,
            "border": null,
            "bottom": null,
            "display": null,
            "flex": null,
            "flex_flow": null,
            "grid_area": null,
            "grid_auto_columns": null,
            "grid_auto_flow": null,
            "grid_auto_rows": null,
            "grid_column": null,
            "grid_gap": null,
            "grid_row": null,
            "grid_template_areas": null,
            "grid_template_columns": null,
            "grid_template_rows": null,
            "height": null,
            "justify_content": null,
            "justify_items": null,
            "left": null,
            "margin": null,
            "max_height": null,
            "max_width": null,
            "min_height": null,
            "min_width": null,
            "object_fit": null,
            "object_position": null,
            "order": null,
            "overflow": null,
            "overflow_x": null,
            "overflow_y": null,
            "padding": null,
            "right": null,
            "top": null,
            "visibility": null,
            "width": null
          }
        },
        "e7fd95912d1a4fe0ae9b91a5911a3f34": {
          "model_module": "@jupyter-widgets/controls",
          "model_name": "ProgressStyleModel",
          "model_module_version": "1.5.0",
          "state": {
            "_model_module": "@jupyter-widgets/controls",
            "_model_module_version": "1.5.0",
            "_model_name": "ProgressStyleModel",
            "_view_count": null,
            "_view_module": "@jupyter-widgets/base",
            "_view_module_version": "1.2.0",
            "_view_name": "StyleView",
            "bar_color": null,
            "description_width": ""
          }
        },
        "4699613fa01b4e71915a9face7879d90": {
          "model_module": "@jupyter-widgets/base",
          "model_name": "LayoutModel",
          "model_module_version": "1.2.0",
          "state": {
            "_model_module": "@jupyter-widgets/base",
            "_model_module_version": "1.2.0",
            "_model_name": "LayoutModel",
            "_view_count": null,
            "_view_module": "@jupyter-widgets/base",
            "_view_module_version": "1.2.0",
            "_view_name": "LayoutView",
            "align_content": null,
            "align_items": null,
            "align_self": null,
            "border": null,
            "bottom": null,
            "display": null,
            "flex": null,
            "flex_flow": null,
            "grid_area": null,
            "grid_auto_columns": null,
            "grid_auto_flow": null,
            "grid_auto_rows": null,
            "grid_column": null,
            "grid_gap": null,
            "grid_row": null,
            "grid_template_areas": null,
            "grid_template_columns": null,
            "grid_template_rows": null,
            "height": null,
            "justify_content": null,
            "justify_items": null,
            "left": null,
            "margin": null,
            "max_height": null,
            "max_width": null,
            "min_height": null,
            "min_width": null,
            "object_fit": null,
            "object_position": null,
            "order": null,
            "overflow": null,
            "overflow_x": null,
            "overflow_y": null,
            "padding": null,
            "right": null,
            "top": null,
            "visibility": null,
            "width": null
          }
        },
        "dd355c8913694de2a4a49dfed8864551": {
          "model_module": "@jupyter-widgets/controls",
          "model_name": "DescriptionStyleModel",
          "model_module_version": "1.5.0",
          "state": {
            "_model_module": "@jupyter-widgets/controls",
            "_model_module_version": "1.5.0",
            "_model_name": "DescriptionStyleModel",
            "_view_count": null,
            "_view_module": "@jupyter-widgets/base",
            "_view_module_version": "1.2.0",
            "_view_name": "StyleView",
            "description_width": ""
          }
        }
      }
    }
  },
  "cells": [
    {
      "cell_type": "code",
      "metadata": {
        "colab": {
          "base_uri": "https://localhost:8080/"
        },
        "id": "GrEk6-UiDwVu",
        "outputId": "80dfa805-541c-43f4-f72d-5a68657b43f5"
      },
      "source": [
        "\n",
        "from google.colab import drive\n",
        "drive.mount('/content/drive')\n"
      ],
      "execution_count": 1,
      "outputs": [
        {
          "output_type": "stream",
          "name": "stdout",
          "text": [
            "Mounted at /content/drive\n"
          ]
        }
      ]
    },
    {
      "cell_type": "code",
      "metadata": {
        "id": "rYA7duwsHEwA"
      },
      "source": [
        "\n",
        "import torch\n",
        "import torch.nn as nn\n",
        "import numpy as np\n",
        "import torchvision\n",
        "from torchvision import datasets, models, transforms\n",
        "import matplotlib.pyplot as plt\n",
        "import time\n",
        "import copy\n",
        "import os\n"
      ],
      "execution_count": 2,
      "outputs": []
    },
    {
      "cell_type": "code",
      "source": [
        "# Data augmentation and normalization for training\n",
        "data_transforms = {\n",
        "    'Train': transforms.Compose([\n",
        "        transforms.RandomResizedCrop(224),\n",
        "        transforms.RandomHorizontalFlip(),\n",
        "        transforms.ToTensor(),\n",
        "        transforms.Normalize([0.485, 0.456, 0.406], [0.229, 0.224, 0.225])\n",
        "    ]),\n",
        "    'Val': transforms.Compose([\n",
        "        transforms.Resize(256),\n",
        "        transforms.CenterCrop(224),\n",
        "        transforms.ToTensor(),\n",
        "        transforms.Normalize([0.485, 0.456, 0.406], [0.229, 0.224, 0.225])\n",
        "    ]),\n",
        "}"
      ],
      "metadata": {
        "id": "e8nVOHZ0h5-A"
      },
      "execution_count": 3,
      "outputs": []
    },
    {
      "cell_type": "code",
      "source": [
        "#Data path\n",
        "data_dir = \"/content/drive/My Drive/Colab Notebooks/Classification Dataset/\"\n",
        "#Load data\n",
        "Datasets = {x: datasets.ImageFolder(os.path.join(data_dir, x),\n",
        "                                          data_transforms[x])\n",
        "              for x in ['Train', 'Val']}\n",
        "              \n",
        "#Define Train and Validation Dataloaders\n",
        "dataloaders = {x: torch.utils.data.DataLoader(Datasets[x], batch_size=5,\n",
        "                                             shuffle=True, num_workers=0)\n",
        "              for x in ['Train', 'Val']}\n",
        "\n",
        "dataset_sizes = {x: len(Datasets[x]) for x in ['Train', 'Val']}\n",
        "print(dataset_sizes)\n",
        "\n",
        "class_names = Datasets['Val'].classes\n",
        "print(class_names)"
      ],
      "metadata": {
        "colab": {
          "base_uri": "https://localhost:8080/"
        },
        "id": "ybsgtMgFb2yo",
        "outputId": "03b5057c-4e6b-4737-a4d6-68fe6931d30b"
      },
      "execution_count": 4,
      "outputs": [
        {
          "output_type": "stream",
          "name": "stdout",
          "text": [
            "{'Train': 311, 'Val': 50}\n",
            "['Bread', 'Coffee', 'Pasta']\n"
          ]
        }
      ]
    },
    {
      "cell_type": "code",
      "metadata": {
        "id": "i0--j82Gn3R4"
      },
      "source": [
        "device = torch.device(\"cuda:0\" if torch.cuda.is_available() else \"cpu\")"
      ],
      "execution_count": 5,
      "outputs": []
    },
    {
      "cell_type": "code",
      "metadata": {
        "id": "aD-nlY4mRriG"
      },
      "source": [
        "def train_model(model, lossFunction, optimizer, scheduler, num_epochs=100):\n",
        "    since = time.time()\n",
        "\n",
        "    best_model_wts = copy.deepcopy(model.state_dict())\n",
        "    best_acc = 0.0\n",
        "\n",
        "    for epoch in range(num_epochs):\n",
        "        print('Epoch {}/{}'.format(epoch, num_epochs - 1))\n",
        "        print('-' * 10)\n",
        "\n",
        "        # Each epoch has a training and validation phase\n",
        "        for phase in ['Train', 'Val']:\n",
        "            if phase == 'Train':\n",
        "                model.train()  # Set model to training mode\n",
        "            else:\n",
        "                model.eval()   # Set model to evaluate mode\n",
        "\n",
        "            running_loss = 0.0\n",
        "            running_corrects = 0\n",
        "\n",
        "            # Iterate over data.\n",
        "            for inputs, labels in dataloaders[phase]:\n",
        "                inputs = inputs.to(device)\n",
        "                labels = labels.to(device)\n",
        "\n",
        "                # zero the parameter gradients\n",
        "                optimizer.zero_grad()\n",
        "\n",
        "                # forward\n",
        "                # track history if only in train\n",
        "                with torch.set_grad_enabled(phase == 'Train'):\n",
        "                    outputs = model(inputs)\n",
        "                    _, preds = torch.max(outputs, 1)\n",
        "                    loss = lossFunction(outputs, labels)\n",
        "\n",
        "                    # backward + optimize only if in training phase\n",
        "                    if phase == 'Train':\n",
        "                        loss.backward()\n",
        "                        optimizer.step()\n",
        "\n",
        "                # statistics\n",
        "                running_loss += loss.item() * inputs.size(0)\n",
        "                running_corrects += torch.sum(preds == labels.data)\n",
        "            if phase == 'Train':\n",
        "                scheduler.step()\n",
        "\n",
        "            epoch_loss = running_loss / dataset_sizes[phase]\n",
        "            epoch_acc = running_corrects.double() / dataset_sizes[phase]\n",
        "\n",
        "            print('{} Loss: {:.4f} Acc: {:.4f}'.format(\n",
        "                phase, epoch_loss, epoch_acc))\n",
        "\n",
        "            # deep copy the model\n",
        "            if phase == 'Val' and epoch_acc > best_acc:\n",
        "                best_acc = epoch_acc\n",
        "                best_model_wts = copy.deepcopy(model.state_dict())\n",
        "\n",
        "        print()\n",
        "\n",
        "    time_elapsed = time.time() - since\n",
        "    print('Training complete in {:.0f}m {:.0f}s'.format(\n",
        "        time_elapsed // 60, time_elapsed % 60))\n",
        "    print('Best val Acc: {:4f}'.format(best_acc))\n",
        "\n",
        "    # load best model weights\n",
        "    model.load_state_dict(best_model_wts)\n",
        "    return model"
      ],
      "execution_count": 6,
      "outputs": []
    },
    {
      "cell_type": "code",
      "source": [
        "def imshow(inp, title=None):\n",
        "    \"\"\"Imshow for Tensor.\"\"\"\n",
        "    inp = inp.numpy().transpose((1, 2, 0))\n",
        "    mean = np.array([0.485, 0.456, 0.406])\n",
        "    std = np.array([0.229, 0.224, 0.225])\n",
        "    inp = std * inp + mean\n",
        "    inp = np.clip(inp, 0, 1)\n",
        "    plt.imshow(inp)\n",
        "    if title is not None:\n",
        "        plt.title(title)\n",
        "    plt.pause(0.001)  # pause a bit so that plots are updated\n",
        "\n",
        "\n",
        "# Get a batch of training data\n",
        "inputs, classes = next(iter(dataloaders['Train']))\n",
        "\n",
        "# Make a grid from batch\n",
        "out = torchvision.utils.make_grid(inputs)\n",
        "\n",
        "imshow(out, title=[class_names[x] for x in classes])"
      ],
      "metadata": {
        "id": "rLgqt8_WOki1"
      },
      "execution_count": null,
      "outputs": []
    },
    {
      "cell_type": "code",
      "metadata": {
        "id": "_nXIAApPR15Z"
      },
      "source": [
        "def visualize_model(model, num_images=8):\n",
        "    was_training = model.training\n",
        "    model.eval()\n",
        "    images_so_far = 0\n",
        "    fig = plt.figure()\n",
        "\n",
        "    with torch.no_grad():\n",
        "        for i, (inputs, labels) in enumerate(dataloaders['Val']):\n",
        "            inputs = inputs.to(device)\n",
        "            labels = labels.to(device)\n",
        "\n",
        "            outputs = model(inputs)\n",
        "            _, preds = torch.max(outputs, 1)\n",
        "\n",
        "            percentage = torch.sigmoid(outputs)[0] * 100 \n",
        "            _, indices = torch.sort(outputs, descending=True)\n",
        "            probs=[percentage[idx].item() for idx in indices[0][:4]]\n",
        "\n",
        "            classes=[class_names[idx] for idx in indices[0][:4]]\n",
        "\n",
        "            for j in range(inputs.size()[0]):\n",
        "                images_so_far += 1\n",
        "                ax = plt.subplot(num_images//2, 5, images_so_far)\n",
        "                ax.axis('off')\n",
        "                ax.set_title('predicted: {}'.format(class_names[preds[j]]))\n",
        "                imshow(inputs.cpu().data[j])\n",
        "\n",
        "                if images_so_far == num_images:\n",
        "                    model.train(mode=was_training)\n",
        "                    return\n",
        "        model.train(mode=was_training)"
      ],
      "execution_count": 8,
      "outputs": []
    },
    {
      "cell_type": "code",
      "source": [
        "import torchvision\n",
        "from torchvision import models\n",
        "import torch.nn as nn"
      ],
      "metadata": {
        "id": "WNix-D7XR5Zr"
      },
      "execution_count": 9,
      "outputs": []
    },
    {
      "cell_type": "code",
      "metadata": {
        "id": "z0TbvK-SSQe7",
        "colab": {
          "base_uri": "https://localhost:8080/",
          "height": 121,
          "referenced_widgets": [
            "a320781ff83647b6a4669b8e4a96332e",
            "59ff11ee5aef433fb71fcf301ce54424",
            "692b0881c6a24421a05a4cb3d4866257",
            "bd7fe9df591a42eab7cad4c773e6737c",
            "9123ff44d8754b55b73fa9cc08fd5796",
            "7ecb8571a5fa4bcf8e8a00044f9d9982",
            "2a420853a8ad4b2f8a71010cc04ee8e7",
            "df9cfa9167b444e497787c69a6347040",
            "e7fd95912d1a4fe0ae9b91a5911a3f34",
            "4699613fa01b4e71915a9face7879d90",
            "dd355c8913694de2a4a49dfed8864551"
          ]
        },
        "outputId": "44496104-dffb-4717-81ae-f5790873ff92"
      },
      "source": [
        "#Transfer Learning by fineTuning the pretrained Resnet101 Model\n",
        "#Load Resnet101 pretained Model\n",
        "#Resnet101 = models.resnet101(pretrained=True)\n",
        "#If pretained is not working, you can also use weights instead.\n",
        "Resnet101 = models.resnet101(weights=True)\n",
        "#print(Resnet101)\n",
        "#Set the resnet param.requires_grad = True to calculate the gradient,\n",
        "#so that model fine-tunes the weights of the pretrained network\n",
        "#by continuing the backpropagation.\n",
        "for param in Resnet101.parameters():\n",
        "    param.requires_grad = True\n",
        "\n",
        "#Get the number of Input features of Resnet last fully connected layer\n",
        "#because we are going to replace it with new fully connected layer.\n",
        "in_features = Resnet101.fc.in_features\n",
        "\n",
        "#Reset the final fully connected layer of the of the pre-trained Resnet.\n",
        "Resnet101.fc = nn.Linear(in_features, len(class_names))\n",
        "\n",
        "Resnet_fineTuning = Resnet101.to(device)\n",
        "\n"
      ],
      "execution_count": 10,
      "outputs": [
        {
          "output_type": "stream",
          "name": "stderr",
          "text": [
            "/usr/local/lib/python3.7/dist-packages/torchvision/models/_utils.py:223: UserWarning: Arguments other than a weight enum or `None` for 'weights' are deprecated since 0.13 and will be removed in 0.15. The current behavior is equivalent to passing `weights=ResNet101_Weights.IMAGENET1K_V1`. You can also use `weights=ResNet101_Weights.DEFAULT` to get the most up-to-date weights.\n",
            "  warnings.warn(msg)\n",
            "Downloading: \"https://download.pytorch.org/models/resnet101-63fe2227.pth\" to /root/.cache/torch/hub/checkpoints/resnet101-63fe2227.pth\n"
          ]
        },
        {
          "output_type": "display_data",
          "data": {
            "text/plain": [
              "  0%|          | 0.00/171M [00:00<?, ?B/s]"
            ],
            "application/vnd.jupyter.widget-view+json": {
              "version_major": 2,
              "version_minor": 0,
              "model_id": "a320781ff83647b6a4669b8e4a96332e"
            }
          },
          "metadata": {}
        }
      ]
    },
    {
      "cell_type": "code",
      "source": [
        "import torch.optim as optim\n",
        "from torch.optim import lr_scheduler"
      ],
      "metadata": {
        "id": "ad4pJknJDnHX"
      },
      "execution_count": 11,
      "outputs": []
    },
    {
      "cell_type": "code",
      "source": [
        "\n",
        "#Define optimzation algorithm\n",
        "optimizer = optim.Adam(Resnet_fineTuning.parameters(), lr=0.00001)\n",
        "\n",
        "# Decay LR by a factor of 0.1 every 7 epochs\n",
        "Decay_Learning_Rate = lr_scheduler.StepLR(optimizer, step_size=7, gamma=0.1)\n",
        "\n",
        "#Define loss functions\n",
        "Loss_Function = nn.CrossEntropyLoss()\n"
      ],
      "metadata": {
        "id": "KglKKVqngUDx"
      },
      "execution_count": 12,
      "outputs": []
    },
    {
      "cell_type": "code",
      "metadata": {
        "colab": {
          "base_uri": "https://localhost:8080/"
        },
        "id": "WUR3NaHPSS60",
        "outputId": "a4a6cfaa-7444-47a0-fb3a-b96b587036da"
      },
      "source": [
        "model_fineTuning = train_model(Resnet_fineTuning, Loss_Function, optimizer, Decay_Learning_Rate, num_epochs=20)\n",
        "torch.save(model_fineTuning, \"/content/drive/My Drive/Colab Notebooks/Resnet_fineTuning.pth\")\n"
      ],
      "execution_count": 13,
      "outputs": [
        {
          "output_type": "stream",
          "name": "stdout",
          "text": [
            "Epoch 0/19\n",
            "----------\n",
            "Train Loss: 0.8740 Acc: 0.6720\n",
            "Val Loss: 0.4334 Acc: 0.9800\n",
            "\n",
            "Epoch 1/19\n",
            "----------\n",
            "Train Loss: 0.5983 Acc: 0.7717\n",
            "Val Loss: 0.2150 Acc: 0.9800\n",
            "\n",
            "Epoch 2/19\n",
            "----------\n",
            "Train Loss: 0.5387 Acc: 0.8135\n",
            "Val Loss: 0.1551 Acc: 0.9800\n",
            "\n",
            "Epoch 3/19\n",
            "----------\n",
            "Train Loss: 0.4447 Acc: 0.8617\n",
            "Val Loss: 0.0970 Acc: 1.0000\n",
            "\n",
            "Epoch 4/19\n",
            "----------\n",
            "Train Loss: 0.3316 Acc: 0.8907\n",
            "Val Loss: 0.0678 Acc: 1.0000\n",
            "\n",
            "Epoch 5/19\n",
            "----------\n",
            "Train Loss: 0.3953 Acc: 0.8489\n",
            "Val Loss: 0.0781 Acc: 1.0000\n",
            "\n",
            "Epoch 6/19\n",
            "----------\n",
            "Train Loss: 0.3425 Acc: 0.8875\n",
            "Val Loss: 0.1271 Acc: 0.9600\n",
            "\n",
            "Epoch 7/19\n",
            "----------\n",
            "Train Loss: 0.3125 Acc: 0.8939\n",
            "Val Loss: 0.1025 Acc: 0.9800\n",
            "\n",
            "Epoch 8/19\n",
            "----------\n",
            "Train Loss: 0.3012 Acc: 0.9003\n",
            "Val Loss: 0.1293 Acc: 0.9400\n",
            "\n",
            "Epoch 9/19\n",
            "----------\n",
            "Train Loss: 0.3741 Acc: 0.8778\n",
            "Val Loss: 0.1163 Acc: 0.9800\n",
            "\n",
            "Epoch 10/19\n",
            "----------\n",
            "Train Loss: 0.3336 Acc: 0.8939\n",
            "Val Loss: 0.2105 Acc: 0.9800\n",
            "\n",
            "Epoch 11/19\n",
            "----------\n",
            "Train Loss: 0.2935 Acc: 0.8810\n",
            "Val Loss: 0.0866 Acc: 0.9800\n",
            "\n",
            "Epoch 12/19\n",
            "----------\n",
            "Train Loss: 0.3239 Acc: 0.8907\n",
            "Val Loss: 0.1711 Acc: 0.9400\n",
            "\n",
            "Epoch 13/19\n",
            "----------\n",
            "Train Loss: 0.3221 Acc: 0.8617\n",
            "Val Loss: 0.1682 Acc: 0.9600\n",
            "\n",
            "Epoch 14/19\n",
            "----------\n",
            "Train Loss: 0.3214 Acc: 0.8939\n",
            "Val Loss: 0.2620 Acc: 0.9800\n",
            "\n",
            "Epoch 15/19\n",
            "----------\n",
            "Train Loss: 0.3242 Acc: 0.8907\n",
            "Val Loss: 0.0598 Acc: 1.0000\n",
            "\n",
            "Epoch 16/19\n",
            "----------\n",
            "Train Loss: 0.3190 Acc: 0.8939\n",
            "Val Loss: 0.0819 Acc: 0.9800\n",
            "\n",
            "Epoch 17/19\n",
            "----------\n",
            "Train Loss: 0.3213 Acc: 0.9003\n",
            "Val Loss: 0.0993 Acc: 0.9600\n",
            "\n",
            "Epoch 18/19\n",
            "----------\n",
            "Train Loss: 0.2547 Acc: 0.9164\n",
            "Val Loss: 0.1894 Acc: 0.9800\n",
            "\n",
            "Epoch 19/19\n",
            "----------\n",
            "Train Loss: 0.3186 Acc: 0.8907\n",
            "Val Loss: 0.1264 Acc: 0.9600\n",
            "\n",
            "Training complete in 8m 46s\n",
            "Best val Acc: 1.000000\n"
          ]
        }
      ]
    },
    {
      "cell_type": "code",
      "metadata": {
        "id": "dfJ3Xrw6R_F0"
      },
      "source": [
        "Resnet_fineTuning = torch.load('/content/drive/My Drive/Colab Notebooks/Resnet_fineTuning.pth')"
      ],
      "execution_count": 14,
      "outputs": []
    },
    {
      "cell_type": "code",
      "metadata": {
        "colab": {
          "base_uri": "https://localhost:8080/",
          "height": 633
        },
        "id": "IK9q9ZK7SWsy",
        "outputId": "41245968-dadb-4cb5-fca2-59669a0f20c9"
      },
      "source": [
        "visualize_model(Resnet_fineTuning)\n"
      ],
      "execution_count": 15,
      "outputs": [
        {
          "output_type": "display_data",
          "data": {
            "text/plain": [
              "<Figure size 432x288 with 1 Axes>"
            ],
            "image/png": "[encoded data removed]"
          },
          "metadata": {
            "needs_background": "light"
          }
        },
        {
          "output_type": "display_data",
          "data": {
            "text/plain": [
              "<Figure size 432x288 with 1 Axes>"
            ],
            "image/png": "[encoded data removed]"
          },
          "metadata": {
            "needs_background": "light"
          }
        },
        {
          "output_type": "display_data",
          "data": {
            "text/plain": [
              "<Figure size 432x288 with 1 Axes>"
            ],
            "image/png": "[encoded data removed]"
          },
          "metadata": {
            "needs_background": "light"
          }
        },
        {
          "output_type": "display_data",
          "data": {
            "text/plain": [
              "<Figure size 432x288 with 1 Axes>"
            ],
            "image/png": "[encoded data removed]"
          },
          "metadata": {
            "needs_background": "light"
          }
        },
        {
          "output_type": "display_data",
          "data": {
            "text/plain": [
              "<Figure size 432x288 with 1 Axes>"
            ],
            "image/png": "[encoded data removed]"
          },
          "metadata": {
            "needs_background": "light"
          }
        },
        {
          "output_type": "display_data",
          "data": {
            "text/plain": [
              "<Figure size 432x288 with 1 Axes>"
            ],
            "image/png": "[encoded data removed]"
          },
          "metadata": {
            "needs_background": "light"
          }
        },
        {
          "output_type": "display_data",
          "data": {
            "text/plain": [
              "<Figure size 432x288 with 1 Axes>"
            ],
            "image/png": "[encoded data removed]"
          },
          "metadata": {
            "needs_background": "light"
          }
        },
        {
          "output_type": "display_data",
          "data": {
            "text/plain": [
              "<Figure size 432x288 with 1 Axes>"
            ],
            "image/png": "[encoded data removed]"
          },
          "metadata": {
            "needs_background": "light"
          }
        }
      ]
    },
    {
      "cell_type": "code",
      "metadata": {
        "id": "5T7Qp7Dcd-JC"
      },
      "source": [
        "#Feature Extractor"
      ],
      "execution_count": null,
      "outputs": []
    },
    {
      "cell_type": "code",
      "source": [
        "#Transfer Learning with pretrained Resnet101 model as fixed feature extractor\n",
        "#Load Resnet101 pretained Model\n",
        "Resnet101 = models.resnet101(pretrained=True)\n",
        "#If pretained is not working, you can also use weights instead.\n",
        "#Resnet101 = models.resnet101(weights=True)\n",
        "\n",
        "#Here, we freeze all the network weights except the final layer. \n",
        "#We need to set requires_grad = False to freeze the parameters \n",
        "#so that the gradients are not computed in backward().\n",
        "for param in Resnet101.parameters():\n",
        "    param.requires_grad = False\n",
        "\n",
        "#Get the number of Input features of Resnet last fully connected layer\n",
        "#because we are going to replace it with new fully connected layer.\n",
        "in_features = Resnet101.fc.in_features\n",
        "\n",
        "#Replace the final fully connected layer of the of the pre-trained Resnet.\n",
        "Resnet101.fc = nn.Linear(in_features, len(class_names))\n",
        "\n",
        "#Only last replaced layer will be trained and \n",
        "#the rest of the network is treated as a fixed feature extractor.\n",
        "Resnet_featureExtractor = Resnet101.to(device)"
      ],
      "metadata": {
        "id": "UpQMw0NVmCEm"
      },
      "execution_count": null,
      "outputs": []
    },
    {
      "cell_type": "code",
      "metadata": {
        "id": "v_Itf_YueCrG"
      },
      "source": [
        "#Define loss functions\n",
        "Loss_Function = nn.CrossEntropyLoss()\n",
        "\n",
        "# Observe that only parameters of final layer are being optimized as\n",
        "# opposed to before.\n",
        "optimizer = optim.SGD(Resnet_featureExtractor.fc.parameters(), lr=0.00001)\n",
        "\n",
        "# Decay LR by a factor of 0.1 every 7 epochs\n",
        "Decay_Learning_Rate = lr_scheduler.StepLR(optimizer, step_size=7, gamma=0.1)"
      ],
      "execution_count": 14,
      "outputs": []
    },
    {
      "cell_type": "code",
      "metadata": {
        "colab": {
          "base_uri": "https://localhost:8080/"
        },
        "id": "1bW_7jTNejVS",
        "outputId": "af177f76-b044-4cf6-b318-954652554f57"
      },
      "source": [
        "model_featureExtractor = train_model(Resnet_featureExtractor, Loss_Function, optimizer, Decay_Learning_Rate, num_epochs=20)\n",
        "torch.save(model_featureExtractor, \"/content/drive/My Drive/Colab Notebooks/Resnet_featureExtractor.pth\")\n"
      ],
      "execution_count": 15,
      "outputs": [
        {
          "output_type": "stream",
          "name": "stdout",
          "text": [
            "Epoch 0/19\n",
            "----------\n",
            "Train Loss: 1.1138 Acc: 0.3633\n",
            "Val Loss: 1.0590 Acc: 0.4000\n",
            "\n",
            "Epoch 1/19\n",
            "----------\n",
            "Train Loss: 1.1134 Acc: 0.3601\n",
            "Val Loss: 1.0393 Acc: 0.4800\n",
            "\n",
            "Epoch 2/19\n",
            "----------\n",
            "Train Loss: 1.1031 Acc: 0.3859\n",
            "Val Loss: 1.0399 Acc: 0.5600\n",
            "\n",
            "Epoch 3/19\n",
            "----------\n",
            "Train Loss: 1.1000 Acc: 0.3955\n",
            "Val Loss: 1.0487 Acc: 0.4800\n",
            "\n",
            "Epoch 4/19\n",
            "----------\n",
            "Train Loss: 1.0935 Acc: 0.4148\n",
            "Val Loss: 1.0585 Acc: 0.4600\n",
            "\n",
            "Epoch 5/19\n",
            "----------\n",
            "Train Loss: 1.0943 Acc: 0.4084\n",
            "Val Loss: 1.0474 Acc: 0.4600\n",
            "\n",
            "Epoch 6/19\n",
            "----------\n",
            "Train Loss: 1.0801 Acc: 0.4695\n",
            "Val Loss: 1.0765 Acc: 0.3600\n",
            "\n",
            "Epoch 7/19\n",
            "----------\n",
            "Train Loss: 1.0778 Acc: 0.4148\n",
            "Val Loss: 1.0433 Acc: 0.5000\n",
            "\n",
            "Epoch 8/19\n",
            "----------\n",
            "Train Loss: 1.0766 Acc: 0.4566\n",
            "Val Loss: 1.0488 Acc: 0.4600\n",
            "\n",
            "Epoch 9/19\n",
            "----------\n",
            "Train Loss: 1.0849 Acc: 0.4180\n",
            "Val Loss: 1.0468 Acc: 0.4400\n",
            "\n",
            "Epoch 10/19\n",
            "----------\n",
            "Train Loss: 1.0855 Acc: 0.4759\n",
            "Val Loss: 1.0352 Acc: 0.4600\n",
            "\n",
            "Epoch 11/19\n",
            "----------\n",
            "Train Loss: 1.0864 Acc: 0.4212\n",
            "Val Loss: 1.0320 Acc: 0.5200\n",
            "\n",
            "Epoch 12/19\n",
            "----------\n",
            "Train Loss: 1.0872 Acc: 0.4212\n",
            "Val Loss: 1.0476 Acc: 0.4800\n",
            "\n",
            "Epoch 13/19\n",
            "----------\n",
            "Train Loss: 1.0874 Acc: 0.4566\n",
            "Val Loss: 1.0441 Acc: 0.4600\n",
            "\n",
            "Epoch 14/19\n",
            "----------\n",
            "Train Loss: 1.0799 Acc: 0.4277\n",
            "Val Loss: 1.0442 Acc: 0.4600\n",
            "\n",
            "Epoch 15/19\n",
            "----------\n",
            "Train Loss: 1.0879 Acc: 0.4309\n",
            "Val Loss: 1.0529 Acc: 0.4800\n",
            "\n",
            "Epoch 16/19\n",
            "----------\n",
            "Train Loss: 1.0853 Acc: 0.3987\n",
            "Val Loss: 1.0555 Acc: 0.4400\n",
            "\n",
            "Epoch 17/19\n",
            "----------\n",
            "Train Loss: 1.0765 Acc: 0.4727\n",
            "Val Loss: 1.0443 Acc: 0.4400\n",
            "\n",
            "Epoch 18/19\n",
            "----------\n",
            "Train Loss: 1.0784 Acc: 0.4373\n",
            "Val Loss: 1.0611 Acc: 0.4000\n",
            "\n",
            "Epoch 19/19\n",
            "----------\n",
            "Train Loss: 1.0829 Acc: 0.4502\n",
            "Val Loss: 1.0646 Acc: 0.4200\n",
            "\n",
            "Training complete in 5m 12s\n",
            "Best val Acc: 0.560000\n"
          ]
        }
      ]
    },
    {
      "cell_type": "code",
      "source": [
        "Resnet_featureExtractor = torch.load('/content/drive/My Drive/Colab Notebooks/Resnet_featureExtractor.pth')"
      ],
      "metadata": {
        "id": "EkzJRq4zh_5Q"
      },
      "execution_count": 16,
      "outputs": []
    },
    {
      "cell_type": "code",
      "metadata": {
        "colab": {
          "base_uri": "https://localhost:8080/",
          "height": 633
        },
        "id": "PrLplurSevJ6",
        "outputId": "c3e7d734-543e-4167-dcf4-53a1dcfc8a6b"
      },
      "source": [
        "visualize_model(Resnet_featureExtractor)\n"
      ],
      "execution_count": 17,
      "outputs": [
        {
          "output_type": "display_data",
          "data": {
            "text/plain": [
              "<Figure size 432x288 with 1 Axes>"
            ],
            "image/png": "[encoded data removed]"
          },
          "metadata": {
            "needs_background": "light"
          }
        },
        {
          "output_type": "display_data",
          "data": {
            "text/plain": [
              "<Figure size 432x288 with 1 Axes>"
            ],
            "image/png": "[encoded data removed]"
          },
          "metadata": {
            "needs_background": "light"
          }
        },
        {
          "output_type": "display_data",
          "data": {
            "text/plain": [
              "<Figure size 432x288 with 1 Axes>"
            ],
            "image/png": "[encoded data removed]"
          },
          "metadata": {
            "needs_background": "light"
          }
        },
        {
          "output_type": "display_data",
          "data": {
            "text/plain": [
              "<Figure size 432x288 with 1 Axes>"
            ],
            "image/png": "[encoded data removed]"
          },
          "metadata": {
            "needs_background": "light"
          }
        },
        {
          "output_type": "display_data",
          "data": {
            "text/plain": [
              "<Figure size 432x288 with 1 Axes>"
            ],
            "image/png": "[encoded data removed]"
          },
          "metadata": {
            "needs_background": "light"
          }
        },
        {
          "output_type": "display_data",
          "data": {
            "text/plain": [
              "<Figure size 432x288 with 1 Axes>"
            ],
            "image/png": "[encoded data removed]"
          },
          "metadata": {
            "needs_background": "light"
          }
        },
        {
          "output_type": "display_data",
          "data": {
            "text/plain": [
              "<Figure size 432x288 with 1 Axes>"
            ],
            "image/png": "[encoded data removed]"
          },
          "metadata": {
            "needs_background": "light"
          }
        },
        {
          "output_type": "display_data",
          "data": {
            "text/plain": [
              "<Figure size 432x288 with 1 Axes>"
            ],
            "image/png": "[encoded data removed]"
          },
          "metadata": {
            "needs_background": "light"
          }
        }
      ]
    }
  ]
}